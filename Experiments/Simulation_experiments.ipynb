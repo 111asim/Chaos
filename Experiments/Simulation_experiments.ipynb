{
 "cells": [
  {
   "cell_type": "code",
   "execution_count": 1,
   "metadata": {},
   "outputs": [],
   "source": [
    "import numpy as np\n",
    "import random\n",
    "import itertools\n",
    "import math\n",
    "import matplotlib.pyplot as plt\n",
    "from qiskit.quantum_info import DensityMatrix, partial_trace,random_statevector\n",
    "from qiskit import QuantumCircuit\n",
    "import bluequbit\n",
    "from qiskit.visualization import plot_histogram\n",
    "import ast\n",
    "\n",
    "def get_cyclic_permutation(permutation):\n",
    "    '''\n",
    "    input: arbitary permutation of tokens in complete graph:list\n",
    "    output: cyclic permutation equivalent of the input:list of lists\n",
    "    '''\n",
    "    pi=permutation\n",
    "    cyclic_permutation=[]\n",
    "    n=len(pi)\n",
    "    not_in_cycle=list(range(n))\n",
    "    while len(not_in_cycle)!=0:\n",
    "        cycle=[]\n",
    "        start=not_in_cycle[0]\n",
    "        current=start\n",
    "        cycle.append(start)\n",
    "        not_in_cycle.remove(start)\n",
    "        final=-1\n",
    "        while final != start:\n",
    "            current=permutation[current]\n",
    "            cycle.append(current)\n",
    "            if(current in not_in_cycle):\n",
    "                not_in_cycle.remove(current)\n",
    "            final=current\n",
    "        cyclic_permutation.append(cycle)\n",
    "    cyclic=[]\n",
    "    for i in cyclic_permutation:\n",
    "        length=len(i)\n",
    "        if(length>2):\n",
    "            cyclic.append(i[:-1])\n",
    "    return(cyclic)\n",
    "def Get_Routing_via_matching(cyclic_permutation):\n",
    "    '''\n",
    "    input:cyclic permutations: list of lists\n",
    "    output: 2 step swaps that is equivalent to routing via matching 2 list of list(list of swaps)\n",
    "    '''\n",
    "    layer_1=[]\n",
    "    layer_2=[]\n",
    "    for cycle in  cyclic_permutation:\n",
    "        length=len(cycle)\n",
    "        for j in range(int(len(cycle)/2)):\n",
    "            layer_1.append([cycle[j],cycle[length-j-1]])\n",
    "            if(cycle[j+1]!=cycle[length-j-1]):\n",
    "                layer_2.append([cycle[j+1],cycle[length-j-1]])\n",
    "    return(layer_1,layer_2)\n",
    "\n",
    "def old_causaly_cover_nodes(M,i,j):##edges=M\n",
    "    '''\n",
    "    input: M=random matching for the complete graph\n",
    "           i=initial node n>=i,j>=0 int\n",
    "           j=final node \n",
    "    output:boolean:true: iand j are causaly cover\n",
    "                   false: i and j are not causaly covered\n",
    "    '''\n",
    "    path=[i]\n",
    "    cover=False\n",
    "    for matching in M: ##if you think about it M is nothing but random matching in our complete graph\n",
    "        for i in matching:\n",
    "            current=path[-1]\n",
    "            if(i[0]==current):\n",
    "                path.append(i[1])\n",
    "                if(i[1]==j):\n",
    "                    cover=True\n",
    "                break\n",
    "            elif(i[1]==current):\n",
    "                path.append(i[0])\n",
    "                if(i[0]==j):\n",
    "                    cover=True\n",
    "                break\n",
    "        if(cover==True):\n",
    "            # print(\"path for causaly cover=\",path)\n",
    "            return cover\n",
    "    return cover\n",
    "def causaly_cover_nodes(M,i,j):##edges=M\n",
    "    '''\n",
    "    input: M=random matching for the complete graph\n",
    "           i=initial node n>=i,j>=0 int\n",
    "           j=final node \n",
    "    output:boolean:true: iand j are causaly cover\n",
    "                   false: i and j are not causaly covered\n",
    "    '''\n",
    "    covered_set=[i]\n",
    "    cover=False\n",
    "    for matching in M: ##if you think about it M is nothing but random matching in our complete graph\n",
    "        for k in matching:\n",
    "            new_covered=[]\n",
    "            for l in covered_set:\n",
    "                current=l\n",
    "                if(k[0]==current):\n",
    "                    new_covered.append(k[1])\n",
    "                    if(k[1]==j):\n",
    "                        cover=True\n",
    "                        break\n",
    "                elif(k[1]==current):\n",
    "                    new_covered.append(k[0])\n",
    "                    if(k[0]==j):\n",
    "                        cover=True\n",
    "                        break\n",
    "            covered_set=covered_set+new_covered\n",
    "            if(cover==True):\n",
    "                # print(\"path for causaly cover=\",path)\n",
    "                return cover\n",
    "    return cover\n",
    "\n",
    "def causaly_cover_graph(M,n):\n",
    "    nodes=list(range(n))\n",
    "    ##get all the possible pair combination for nodes:\n",
    "    permutation=list(itertools.permutations(nodes,2))\n",
    "    for pairs in permutation:\n",
    "        is_causaly_cover=causaly_cover_nodes(M,pairs[0],pairs[1])\n",
    "        if(is_causaly_cover== False):\n",
    "            return(False,pairs)\n",
    "    return(True,(-1,-1))\n",
    "def create_M(pi):\n",
    "    ''' \n",
    "    input: random/ arbitary permutations\n",
    "    output:return all the matching generated for this permutations using 2 step routing algorithm\n",
    "    '''\n",
    "    ##pass all these permutation to get two step routing \n",
    "    M=[]\n",
    "    for i in range(len(pi)):\n",
    "        cyclic_permutation=get_cyclic_permutation(pi[i])\n",
    "        O,E=Get_Routing_via_matching(cyclic_permutation)\n",
    "        M.append(O)\n",
    "        M.append(E)\n",
    "    return M\n"
   ]
  },
  {
   "cell_type": "code",
   "execution_count": 2,
   "metadata": {},
   "outputs": [],
   "source": [
    "def initialize_zero(qc,n):\n",
    "    for i in range(n):\n",
    "        qc.initialize([1,0],i)\n",
    "    return qc\n",
    "\n",
    "def initialize_R_product_state(q,n):\n",
    "    for i in range(n):\n",
    "        q.initialize(random_statevector(2).data,i)\n",
    "    return(q)\n",
    "\n",
    "def random_clifford(qc,n):\n",
    "    qubits_list=list(range(n))\n",
    "    for i in range(500):\n",
    "        choice=random.choices(['s','h','cnot','i'])[0]\n",
    "        qbit=random.choices(qubits_list)[0]\n",
    "        if choice=='s':\n",
    "            qc.s(qbit)\n",
    "        elif choice=='h':\n",
    "            qc.h(qbit)\n",
    "        elif choice=='i':\n",
    "            True\n",
    "        elif choice=='cnot':\n",
    "            c=qubits_list.copy()\n",
    "            c.remove(qbit)\n",
    "            control_bit=random.choices(c)[0]\n",
    "            order=[control_bit,qbit]\n",
    "            random.shuffle([control_bit,qbit]) ## randomize the cont order\n",
    "            qc.cx(order[0],order[1])\n",
    "    return qc\n",
    "\n",
    "def random_clifford_with_depth(qc,n,depth):\n",
    "    qubits_list=list(range(n))\n",
    "    gates=[]\n",
    "    for i in range(depth):\n",
    "        un_used_qubits=qubits_list.copy()\n",
    "        gates_added={}\n",
    "        while len(un_used_qubits)>=1:\n",
    "            qbit=random.choice(un_used_qubits)\n",
    "            choice=random.choices(['s','h','cnot'])[0]\n",
    "            un_used_qubits.remove(qbit)\n",
    "            if choice=='s':\n",
    "                qc.s(qbit)\n",
    "                gates_added[qbit]='s'\n",
    "            elif choice=='h':\n",
    "                qc.h(qbit)\n",
    "                gates_added[qbit]='h'\n",
    "            elif choice=='cnot':\n",
    "                if(un_used_qubits!=[]):\n",
    "                    control_bit=random.choices(un_used_qubits)[0]\n",
    "                    order=[control_bit,qbit]\n",
    "                    random.shuffle(order)\n",
    "                    qc.cx(order[0],order[1])\n",
    "                    un_used_qubits.remove(control_bit)\n",
    "                    gates_added[str(order)]='cnot'\n",
    "\n",
    "        gates.append(gates_added)\n",
    "    return qc,gates\n",
    "\n",
    "def random_Cnot_permutation(qc,n):\n",
    "    pi=[]\n",
    "    nodes=list(range(n))\n",
    "    for i in range(int(math.log(n,2))):\n",
    "        pi.append(list(random.sample(nodes,n)))\n",
    "    M=create_M(pi)\n",
    "    ## now add the cnot gate layers according to the matching. \n",
    "    for i in M:\n",
    "        for cnots in i:\n",
    "            qc.cx(cnots[0],cnots[1])\n",
    "        ## after each layer of cnots add random S,H gates to all other qubits\n",
    "        for i in range(n):\n",
    "            choice=random.choices(['s','h','i'])[0]\n",
    "            if choice=='s':\n",
    "                qc.s(i)\n",
    "            elif choice=='h':\n",
    "                qc.h(i)\n",
    "            elif choice=='i':\n",
    "                True\n",
    "    return qc\n",
    "\n",
    "def t_layer(qc,n):\n",
    "    for i in range(n):\n",
    "        qc.t(i)\n",
    "    return qc\n",
    "\n",
    "def initialize_t_state(qc,n):\n",
    "    for i in range(n):\n",
    "        qc.h(i)\n",
    "        qc.t(i)\n",
    "        qc.h(i)\n",
    "    return qc\n",
    "\n",
    "def get_r_tildae_qiskit(qc,partition):\n",
    "    rho= DensityMatrix.from_instruction(qc) ##get the state vector of the system\n",
    "    # print(state)\n",
    "    rho_a=partial_trace(state=rho,qargs=partition)  ##rho_a is the reduced density matrix for the first a subsystem A(as the paper has divided the whole system into A and B subsystem)\n",
    "    eigenvalues=np.linalg.eigvals(rho_a.data) ##entanglement spectrum is the set of the eigen values of the reduced density matrix\n",
    "    ES=sorted(eigenvalues,reverse=True)\n",
    "    ES_real=[i.real for i in ES ]\n",
    "    lambd=ES_real\n",
    "    r_k_tilda=[]\n",
    "    for i in range(1,len(lambd)-1):\n",
    "        del_k=lambd[i-1]-lambd[i]\n",
    "        del_k_P1=lambd[i]-lambd[i+1]\n",
    "        r_k_tilda.append(min(del_k,del_k_P1)/max(del_k,del_k_P1))\n",
    "    r_mean=np.mean(r_k_tilda)\n",
    "    return r_mean\n",
    "\n",
    "def rdm_qiskit(qc,partition):\n",
    "    rho= DensityMatrix.from_instruction(qc) ##get the state vector of the system\n",
    "    # print(state)\n",
    "    rho_a=partial_trace(state=rho,qargs=partition)  ##rho_a is the reduced density matrix for the first a subsystem A(as the paper has divided the whole system into A and B subsystem)\n",
    "    return rho_a\n",
    "\n",
    "def brick_1D_add_4_layer(qc,n): \n",
    "    layer=0\n",
    "    for i in range(0,n,2):\n",
    "        pair=[i,i+1]\n",
    "        random.shuffle(pair)\n",
    "        qc.cx(pair[0],pair[1])\n",
    "    for i in range(n):\n",
    "        choice=random.choices(['s','h','i'])[0]\n",
    "        if choice=='s':\n",
    "            qc.s(i)\n",
    "        elif choice=='h':\n",
    "            qc.h(i)\n",
    "        elif choice=='i':\n",
    "            True\n",
    "    for i in range(1,n-1,2):\n",
    "        pair=[i,i+1]\n",
    "        random.shuffle(pair)\n",
    "        qc.cx(pair[0],pair[1])\n",
    "    # qc.cnot(0,n-1)\n",
    "    for i in range(n):\n",
    "        choice=random.choices(['s','h','i'])[0]\n",
    "        if choice=='s':\n",
    "            qc.s(i)\n",
    "        elif choice=='h':\n",
    "            qc.h(i)\n",
    "        elif choice=='i':\n",
    "            True\n",
    "    return qc\n",
    "\n",
    "def rdm_blue_qubit(qc,partition=0):\n",
    "    n=qc.num_qubits\n",
    "    if (partition==0):\n",
    "        partition=list(range(int(n/2)))\n",
    "    ## this loop for arranging the qubits incase the qubits for RDM is not sequencial\n",
    "    qc_copy=qc.copy()\n",
    "    partition.sort()\n",
    "    for i in range(len(partition)):\n",
    "        if(i!=partition[i]):\n",
    "            qc_copy.swap(i,partition[i])\n",
    "    qc_copy.measure_all()\n",
    "    ##simulate using blue qubit\n",
    "    bq=bluequbit.init(\"bnK9f3RMNBjj2Fi3BqyBbcyFLHS8pLFc\")\n",
    "    result=bq.run(qc_copy,job_name=\"testing_1\")\n",
    "    statevector=result.get_statevector()\n",
    "    state_matrix=statevector.reshape(2**int(n/2),2**int(n/2))\n",
    "    rdm=np.matmul(state_matrix,np.conj(state_matrix).T)\n",
    "    return rdm,statevector\n",
    "\n",
    "def get_r_tildae_rdm(rdm):\n",
    "    eigenvalues=np.linalg.eigvals(np.matrix(rdm)) ##entanglement spectrum is the set of the eigen values of the reduced density matrix\n",
    "    ES=sorted(eigenvalues,reverse=True)\n",
    "    ES_real=[i.real for i in ES ]\n",
    "    lambd=ES_real\n",
    "    r_k_tilda=[]\n",
    "    for i in range(1,len(lambd)-1):\n",
    "        del_k=lambd[i-1]-lambd[i]\n",
    "        del_k_P1=lambd[i]-lambd[i+1]\n",
    "        r_k_tilda.append(min(del_k,del_k_P1)/max(del_k,del_k_P1))\n",
    "    r_mean=np.mean(r_k_tilda)\n",
    "    return r_mean\n",
    "\n",
    "def get_r_tildae(qc,partition,simulator):\n",
    "    n=qc.num_qubits\n",
    "    if (partition==0):\n",
    "        partition=list(range(int(n/2)))\n",
    "    if(simulator=='qiskit'):\n",
    "        rdm=rdm_qiskit(qc,partition)\n",
    "        r_tildae=get_r_tildae_rdm(rdm)\n",
    "        return(r_tildae,rdm)\n",
    "    elif(simulator=='bq'):\n",
    "        rdm,state_vector=rdm_blue_qubit(qc,partition)\n",
    "        r_tildae=get_r_tildae_rdm(rdm)\n",
    "        return(r_tildae,rdm,state_vector)"
   ]
  },
  {
   "cell_type": "code",
   "execution_count": 224,
   "metadata": {},
   "outputs": [
    {
     "name": "stderr",
     "output_type": "stream",
     "text": [
      "[BQ-PYTHON-SDK][WARNING] - Beta version 0.9.3b1 of BlueQubit Python SDK is being used.\n"
     ]
    },
    {
     "name": "stdout",
     "output_type": "stream",
     "text": [
      "[BQ-PYTHON-SDK][INFO] - Submitted: Job ID: NUXphZpaSyvTZikt, name: testing_1, device: cpu, run status: COMPLETED, created on: 2025-01-10 16:43:43 UTC, cost: $0.00, run time: 5 ms, queue time: 27 ms, num qubits: 16\n"
     ]
    },
    {
     "name": "stderr",
     "output_type": "stream",
     "text": [
      "[BQ-PYTHON-SDK][WARNING] - Beta version 0.9.3b1 of BlueQubit Python SDK is being used.\n"
     ]
    },
    {
     "name": "stdout",
     "output_type": "stream",
     "text": [
      "[BQ-PYTHON-SDK][INFO] - Submitted: Job ID: ulTuUV4zeOUhNHCW, name: testing_1, device: cpu, run status: COMPLETED, created on: 2025-01-10 16:43:48 UTC, cost: $0.00, run time: 6 ms, queue time: 26 ms, num qubits: 16\n"
     ]
    },
    {
     "name": "stderr",
     "output_type": "stream",
     "text": [
      "[BQ-PYTHON-SDK][WARNING] - Beta version 0.9.3b1 of BlueQubit Python SDK is being used.\n"
     ]
    },
    {
     "name": "stdout",
     "output_type": "stream",
     "text": [
      "[BQ-PYTHON-SDK][INFO] - Submitted: Job ID: sWSujs0STXoKCpPc, name: testing_1, device: cpu, run status: COMPLETED, created on: 2025-01-10 16:43:51 UTC, cost: $0.00, run time: 7 ms, queue time: 22 ms, num qubits: 16\n"
     ]
    },
    {
     "name": "stderr",
     "output_type": "stream",
     "text": [
      "[BQ-PYTHON-SDK][WARNING] - Beta version 0.9.3b1 of BlueQubit Python SDK is being used.\n"
     ]
    },
    {
     "name": "stdout",
     "output_type": "stream",
     "text": [
      "[BQ-PYTHON-SDK][INFO] - Submitted: Job ID: ZJm0zsRHQaao2VmK, name: testing_1, device: cpu, run status: COMPLETED, created on: 2025-01-10 16:43:56 UTC, cost: $0.00, run time: 7 ms, queue time: 23 ms, num qubits: 16\n"
     ]
    },
    {
     "name": "stderr",
     "output_type": "stream",
     "text": [
      "[BQ-PYTHON-SDK][WARNING] - Beta version 0.9.3b1 of BlueQubit Python SDK is being used.\n"
     ]
    },
    {
     "name": "stdout",
     "output_type": "stream",
     "text": [
      "[BQ-PYTHON-SDK][INFO] - Submitted: Job ID: ifozX9TclMAVdIVk, name: testing_1, device: cpu, run status: COMPLETED, created on: 2025-01-10 16:44:01 UTC, cost: $0.00, run time: 8 ms, queue time: 29 ms, num qubits: 16\n"
     ]
    },
    {
     "name": "stderr",
     "output_type": "stream",
     "text": [
      "[BQ-PYTHON-SDK][WARNING] - Beta version 0.9.3b1 of BlueQubit Python SDK is being used.\n"
     ]
    },
    {
     "name": "stdout",
     "output_type": "stream",
     "text": [
      "[BQ-PYTHON-SDK][INFO] - Submitted: Job ID: F8pYdaOvbO50umWx, name: testing_1, device: cpu, run status: COMPLETED, created on: 2025-01-10 16:44:04 UTC, cost: $0.00, run time: 8 ms, queue time: 27 ms, num qubits: 16\n"
     ]
    },
    {
     "name": "stderr",
     "output_type": "stream",
     "text": [
      "[BQ-PYTHON-SDK][WARNING] - Beta version 0.9.3b1 of BlueQubit Python SDK is being used.\n"
     ]
    },
    {
     "name": "stdout",
     "output_type": "stream",
     "text": [
      "[BQ-PYTHON-SDK][INFO] - Submitted: Job ID: ZHkSMILaftgieDab, name: testing_1, device: cpu, run status: COMPLETED, created on: 2025-01-10 16:44:10 UTC, cost: $0.00, run time: 8 ms, queue time: 25 ms, num qubits: 16\n"
     ]
    },
    {
     "name": "stderr",
     "output_type": "stream",
     "text": [
      "[BQ-PYTHON-SDK][WARNING] - Beta version 0.9.3b1 of BlueQubit Python SDK is being used.\n"
     ]
    },
    {
     "name": "stdout",
     "output_type": "stream",
     "text": [
      "[BQ-PYTHON-SDK][INFO] - Submitted: Job ID: dfAwsnIBHsTi7zPw, name: testing_1, device: cpu, run status: COMPLETED, created on: 2025-01-10 16:44:14 UTC, cost: $0.00, run time: 10 ms, queue time: 28 ms, num qubits: 16\n"
     ]
    },
    {
     "name": "stderr",
     "output_type": "stream",
     "text": [
      "[BQ-PYTHON-SDK][WARNING] - Beta version 0.9.3b1 of BlueQubit Python SDK is being used.\n"
     ]
    },
    {
     "name": "stdout",
     "output_type": "stream",
     "text": [
      "[BQ-PYTHON-SDK][INFO] - Submitted: Job ID: q59iYEv0fE2u5jpi, name: testing_1, device: cpu, run status: COMPLETED, created on: 2025-01-10 16:44:18 UTC, cost: $0.00, run time: 9 ms, queue time: 28 ms, num qubits: 16\n"
     ]
    },
    {
     "name": "stderr",
     "output_type": "stream",
     "text": [
      "[BQ-PYTHON-SDK][WARNING] - Beta version 0.9.3b1 of BlueQubit Python SDK is being used.\n"
     ]
    },
    {
     "name": "stdout",
     "output_type": "stream",
     "text": [
      "[BQ-PYTHON-SDK][INFO] - Submitted: Job ID: NzEzaHPeIXIaSlV2, name: testing_1, device: cpu, run status: COMPLETED, created on: 2025-01-10 16:44:22 UTC, cost: $0.00, run time: 10 ms, queue time: 27 ms, num qubits: 16\n"
     ]
    },
    {
     "name": "stderr",
     "output_type": "stream",
     "text": [
      "[BQ-PYTHON-SDK][WARNING] - Beta version 0.9.3b1 of BlueQubit Python SDK is being used.\n"
     ]
    },
    {
     "name": "stdout",
     "output_type": "stream",
     "text": [
      "[BQ-PYTHON-SDK][INFO] - Submitted: Job ID: 5EHkKlZsci8VD7fd, name: testing_1, device: cpu, run status: COMPLETED, created on: 2025-01-10 16:44:25 UTC, cost: $0.00, run time: 11 ms, queue time: 31 ms, num qubits: 16\n"
     ]
    },
    {
     "name": "stderr",
     "output_type": "stream",
     "text": [
      "[BQ-PYTHON-SDK][WARNING] - Beta version 0.9.3b1 of BlueQubit Python SDK is being used.\n"
     ]
    },
    {
     "name": "stdout",
     "output_type": "stream",
     "text": [
      "[BQ-PYTHON-SDK][INFO] - Submitted: Job ID: ahyQHV2Hw8CAQuJS, name: testing_1, device: cpu, run status: COMPLETED, created on: 2025-01-10 16:44:29 UTC, cost: $0.00, run time: 11 ms, queue time: 42 ms, num qubits: 16\n"
     ]
    },
    {
     "name": "stderr",
     "output_type": "stream",
     "text": [
      "[BQ-PYTHON-SDK][WARNING] - Beta version 0.9.3b1 of BlueQubit Python SDK is being used.\n"
     ]
    },
    {
     "name": "stdout",
     "output_type": "stream",
     "text": [
      "[BQ-PYTHON-SDK][INFO] - Submitted: Job ID: mmHi25BdW1Bj92Xu, name: testing_1, device: cpu, run status: COMPLETED, created on: 2025-01-10 16:44:34 UTC, cost: $0.00, run time: 12 ms, queue time: 27 ms, num qubits: 16\n"
     ]
    },
    {
     "name": "stderr",
     "output_type": "stream",
     "text": [
      "[BQ-PYTHON-SDK][WARNING] - Beta version 0.9.3b1 of BlueQubit Python SDK is being used.\n"
     ]
    },
    {
     "name": "stdout",
     "output_type": "stream",
     "text": [
      "[BQ-PYTHON-SDK][INFO] - Submitted: Job ID: qwSaiXwMXfq5UDhk, name: testing_1, device: cpu, run status: COMPLETED, created on: 2025-01-10 16:44:37 UTC, cost: $0.00, run time: 13 ms, queue time: 23 ms, num qubits: 16\n"
     ]
    },
    {
     "name": "stderr",
     "output_type": "stream",
     "text": [
      "[BQ-PYTHON-SDK][WARNING] - Beta version 0.9.3b1 of BlueQubit Python SDK is being used.\n"
     ]
    },
    {
     "name": "stdout",
     "output_type": "stream",
     "text": [
      "[BQ-PYTHON-SDK][INFO] - Submitted: Job ID: 6GAnt6eOuJvTtNaj, name: testing_1, device: cpu, run status: COMPLETED, created on: 2025-01-10 16:44:42 UTC, cost: $0.00, run time: 13 ms, queue time: 26 ms, num qubits: 16\n"
     ]
    },
    {
     "name": "stderr",
     "output_type": "stream",
     "text": [
      "[BQ-PYTHON-SDK][WARNING] - Beta version 0.9.3b1 of BlueQubit Python SDK is being used.\n"
     ]
    },
    {
     "name": "stdout",
     "output_type": "stream",
     "text": [
      "[BQ-PYTHON-SDK][INFO] - Submitted: Job ID: bDC5W1mIjuZQAlSK, name: testing_1, device: cpu, run status: COMPLETED, created on: 2025-01-10 16:44:45 UTC, cost: $0.00, run time: 14 ms, queue time: 24 ms, num qubits: 16\n"
     ]
    },
    {
     "name": "stderr",
     "output_type": "stream",
     "text": [
      "[BQ-PYTHON-SDK][WARNING] - Beta version 0.9.3b1 of BlueQubit Python SDK is being used.\n"
     ]
    },
    {
     "name": "stdout",
     "output_type": "stream",
     "text": [
      "[BQ-PYTHON-SDK][INFO] - Submitted: Job ID: QXFvZwG6mGzP3fWA, name: testing_1, device: cpu, run status: COMPLETED, created on: 2025-01-10 16:44:49 UTC, cost: $0.00, run time: 14 ms, queue time: 30 ms, num qubits: 16\n"
     ]
    },
    {
     "name": "stderr",
     "output_type": "stream",
     "text": [
      "[BQ-PYTHON-SDK][WARNING] - Beta version 0.9.3b1 of BlueQubit Python SDK is being used.\n"
     ]
    },
    {
     "name": "stdout",
     "output_type": "stream",
     "text": [
      "[BQ-PYTHON-SDK][INFO] - Submitted: Job ID: Z4vpDmY0HkD48QcY, name: testing_1, device: cpu, run status: COMPLETED, created on: 2025-01-10 16:44:53 UTC, cost: $0.00, run time: 18 ms, queue time: 25 ms, num qubits: 16\n"
     ]
    },
    {
     "name": "stderr",
     "output_type": "stream",
     "text": [
      "[BQ-PYTHON-SDK][WARNING] - Beta version 0.9.3b1 of BlueQubit Python SDK is being used.\n"
     ]
    },
    {
     "name": "stdout",
     "output_type": "stream",
     "text": [
      "[BQ-PYTHON-SDK][INFO] - Submitted: Job ID: x8M1h6jV9umBB6U0, name: testing_1, device: cpu, run status: COMPLETED, created on: 2025-01-10 16:45:00 UTC, cost: $0.00, run time: 16 ms, queue time: 28 ms, num qubits: 16\n"
     ]
    },
    {
     "name": "stderr",
     "output_type": "stream",
     "text": [
      "[BQ-PYTHON-SDK][WARNING] - Beta version 0.9.3b1 of BlueQubit Python SDK is being used.\n"
     ]
    },
    {
     "name": "stdout",
     "output_type": "stream",
     "text": [
      "[BQ-PYTHON-SDK][INFO] - Submitted: Job ID: I2ko6zH1sJNMcGbS, name: testing_1, device: cpu, run status: COMPLETED, created on: 2025-01-10 16:45:04 UTC, cost: $0.00, run time: 15 ms, queue time: 26 ms, num qubits: 16\n"
     ]
    },
    {
     "name": "stderr",
     "output_type": "stream",
     "text": [
      "[BQ-PYTHON-SDK][WARNING] - Beta version 0.9.3b1 of BlueQubit Python SDK is being used.\n"
     ]
    },
    {
     "name": "stdout",
     "output_type": "stream",
     "text": [
      "[BQ-PYTHON-SDK][INFO] - Submitted: Job ID: zMwtzWOjmQHe83ca, name: testing_1, device: cpu, run status: COMPLETED, created on: 2025-01-10 16:45:08 UTC, cost: $0.00, run time: 16 ms, queue time: 31 ms, num qubits: 16\n"
     ]
    },
    {
     "name": "stderr",
     "output_type": "stream",
     "text": [
      "[BQ-PYTHON-SDK][WARNING] - Beta version 0.9.3b1 of BlueQubit Python SDK is being used.\n"
     ]
    },
    {
     "name": "stdout",
     "output_type": "stream",
     "text": [
      "[BQ-PYTHON-SDK][INFO] - Submitted: Job ID: z311Qc3HW5TXNQDi, name: testing_1, device: cpu, run status: COMPLETED, created on: 2025-01-10 16:45:11 UTC, cost: $0.00, run time: 19 ms, queue time: 27 ms, num qubits: 16\n"
     ]
    },
    {
     "name": "stderr",
     "output_type": "stream",
     "text": [
      "[BQ-PYTHON-SDK][WARNING] - Beta version 0.9.3b1 of BlueQubit Python SDK is being used.\n"
     ]
    },
    {
     "name": "stdout",
     "output_type": "stream",
     "text": [
      "[BQ-PYTHON-SDK][INFO] - Submitted: Job ID: aqwhuTHKSbcRl68n, name: testing_1, device: cpu, run status: COMPLETED, created on: 2025-01-10 16:45:15 UTC, cost: $0.00, run time: 19 ms, queue time: 27 ms, num qubits: 16\n"
     ]
    },
    {
     "name": "stderr",
     "output_type": "stream",
     "text": [
      "[BQ-PYTHON-SDK][WARNING] - Beta version 0.9.3b1 of BlueQubit Python SDK is being used.\n"
     ]
    },
    {
     "name": "stdout",
     "output_type": "stream",
     "text": [
      "[BQ-PYTHON-SDK][INFO] - Submitted: Job ID: CVrY3Q7Yb6k50FP1, name: testing_1, device: cpu, run status: COMPLETED, created on: 2025-01-10 16:45:19 UTC, cost: $0.00, run time: 18 ms, queue time: 79 ms, num qubits: 16\n"
     ]
    },
    {
     "name": "stderr",
     "output_type": "stream",
     "text": [
      "[BQ-PYTHON-SDK][WARNING] - Beta version 0.9.3b1 of BlueQubit Python SDK is being used.\n"
     ]
    },
    {
     "name": "stdout",
     "output_type": "stream",
     "text": [
      "[BQ-PYTHON-SDK][INFO] - Submitted: Job ID: 9tGrVkUIt7NHfHfb, name: testing_1, device: cpu, run status: COMPLETED, created on: 2025-01-10 16:45:23 UTC, cost: $0.00, run time: 19 ms, queue time: 27 ms, num qubits: 16\n"
     ]
    },
    {
     "name": "stderr",
     "output_type": "stream",
     "text": [
      "[BQ-PYTHON-SDK][WARNING] - Beta version 0.9.3b1 of BlueQubit Python SDK is being used.\n"
     ]
    },
    {
     "name": "stdout",
     "output_type": "stream",
     "text": [
      "[BQ-PYTHON-SDK][INFO] - Submitted: Job ID: BJB0SfZWVm5jTBEU, name: testing_1, device: cpu, run status: COMPLETED, created on: 2025-01-10 16:45:26 UTC, cost: $0.00, run time: 20 ms, queue time: 28 ms, num qubits: 16\n"
     ]
    },
    {
     "name": "stderr",
     "output_type": "stream",
     "text": [
      "[BQ-PYTHON-SDK][WARNING] - Beta version 0.9.3b1 of BlueQubit Python SDK is being used.\n"
     ]
    },
    {
     "name": "stdout",
     "output_type": "stream",
     "text": [
      "[BQ-PYTHON-SDK][INFO] - Submitted: Job ID: NinkZzVovRBzkn9r, name: testing_1, device: cpu, run status: COMPLETED, created on: 2025-01-10 16:45:30 UTC, cost: $0.00, run time: 20 ms, queue time: 31 ms, num qubits: 16\n"
     ]
    },
    {
     "name": "stderr",
     "output_type": "stream",
     "text": [
      "[BQ-PYTHON-SDK][WARNING] - Beta version 0.9.3b1 of BlueQubit Python SDK is being used.\n"
     ]
    },
    {
     "name": "stdout",
     "output_type": "stream",
     "text": [
      "[BQ-PYTHON-SDK][INFO] - Submitted: Job ID: NOb12wlkBoZxgRGR, name: testing_1, device: cpu, run status: COMPLETED, created on: 2025-01-10 16:45:34 UTC, cost: $0.00, run time: 22 ms, queue time: 27 ms, num qubits: 16\n"
     ]
    },
    {
     "name": "stderr",
     "output_type": "stream",
     "text": [
      "[BQ-PYTHON-SDK][WARNING] - Beta version 0.9.3b1 of BlueQubit Python SDK is being used.\n"
     ]
    },
    {
     "name": "stdout",
     "output_type": "stream",
     "text": [
      "[BQ-PYTHON-SDK][INFO] - Submitted: Job ID: SDn0NqyWlQ0dJMKK, name: testing_1, device: cpu, run status: COMPLETED, created on: 2025-01-10 16:45:39 UTC, cost: $0.00, run time: 21 ms, queue time: 28 ms, num qubits: 16\n"
     ]
    },
    {
     "name": "stderr",
     "output_type": "stream",
     "text": [
      "[BQ-PYTHON-SDK][WARNING] - Beta version 0.9.3b1 of BlueQubit Python SDK is being used.\n"
     ]
    },
    {
     "name": "stdout",
     "output_type": "stream",
     "text": [
      "[BQ-PYTHON-SDK][INFO] - Submitted: Job ID: x7MDrHu4S1ig2vRP, name: testing_1, device: cpu, run status: COMPLETED, created on: 2025-01-10 16:45:43 UTC, cost: $0.00, run time: 22 ms, queue time: 28 ms, num qubits: 16\n"
     ]
    }
   ],
   "source": [
    "n=16\n",
    "depth=30\n",
    "qc=QuantumCircuit(n)\n",
    "# qc=initialize_t_state(qc,n)\n",
    "# qc=initialize_zero(qc,n)\n",
    "r_tildae_list=[]\n",
    "gates_list=[]\n",
    " \n",
    "for i in range(n):\n",
    "    qc.h(i)\n",
    "    qc.t(i)\n",
    "    qc.h(i)\n",
    "state_vectors=[]\n",
    "for i in range(depth):\n",
    "    qc,gates=random_clifford_with_depth(qc,n,1)\n",
    "    r_tildae_qiskit,rdm_from_qiskit,statevector=get_r_tildae(qc,partition=list(range(int(n/2))),simulator='bq')\n",
    "    state_vectors.append(statevector)\n",
    "    # r_tildae_qiskit,rdm_from_qiskit=get_r_tildae(qc,partition=list(range(int(n/2))),simulator='qiskit')\n",
    "    r_tildae_list.append(r_tildae_qiskit)\n",
    "    gates_list.append(gates)\n"
   ]
  },
  {
   "cell_type": "code",
   "execution_count": 225,
   "metadata": {},
   "outputs": [
    {
     "name": "stderr",
     "output_type": "stream",
     "text": [
      "[BQ-PYTHON-SDK][WARNING] - Beta version 0.9.3b1 of BlueQubit Python SDK is being used.\n"
     ]
    },
    {
     "name": "stdout",
     "output_type": "stream",
     "text": [
      "[BQ-PYTHON-SDK][INFO] - Submitted: Job ID: ma7B4pUMg4BOpQsJ, name: testing_1, device: cpu, run status: COMPLETED, created on: 2025-01-10 16:45:46 UTC, cost: $0.00, run time: 25 ms, queue time: 27 ms, num qubits: 16\n"
     ]
    },
    {
     "name": "stderr",
     "output_type": "stream",
     "text": [
      "[BQ-PYTHON-SDK][WARNING] - Beta version 0.9.3b1 of BlueQubit Python SDK is being used.\n"
     ]
    },
    {
     "name": "stdout",
     "output_type": "stream",
     "text": [
      "[BQ-PYTHON-SDK][INFO] - Submitted: Job ID: wryy1fwV8DwkX9gt, name: testing_1, device: cpu, run status: COMPLETED, created on: 2025-01-10 16:45:49 UTC, cost: $0.00, run time: 23 ms, queue time: 27 ms, num qubits: 16\n"
     ]
    },
    {
     "name": "stderr",
     "output_type": "stream",
     "text": [
      "[BQ-PYTHON-SDK][WARNING] - Beta version 0.9.3b1 of BlueQubit Python SDK is being used.\n"
     ]
    },
    {
     "name": "stdout",
     "output_type": "stream",
     "text": [
      "[BQ-PYTHON-SDK][INFO] - Submitted: Job ID: kx8NWvg6HSTQ4LPn, name: testing_1, device: cpu, run status: COMPLETED, created on: 2025-01-10 16:45:53 UTC, cost: $0.00, run time: 25 ms, queue time: 26 ms, num qubits: 16\n"
     ]
    },
    {
     "name": "stderr",
     "output_type": "stream",
     "text": [
      "[BQ-PYTHON-SDK][WARNING] - Beta version 0.9.3b1 of BlueQubit Python SDK is being used.\n"
     ]
    },
    {
     "name": "stdout",
     "output_type": "stream",
     "text": [
      "[BQ-PYTHON-SDK][INFO] - Submitted: Job ID: vOdP3gcotIRJe92F, name: testing_1, device: cpu, run status: COMPLETED, created on: 2025-01-10 16:45:56 UTC, cost: $0.00, run time: 25 ms, queue time: 29 ms, num qubits: 16\n"
     ]
    },
    {
     "name": "stderr",
     "output_type": "stream",
     "text": [
      "[BQ-PYTHON-SDK][WARNING] - Beta version 0.9.3b1 of BlueQubit Python SDK is being used.\n"
     ]
    },
    {
     "name": "stdout",
     "output_type": "stream",
     "text": [
      "[BQ-PYTHON-SDK][INFO] - Submitted: Job ID: 6v04f41QmulBHzIi, name: testing_1, device: cpu, run status: COMPLETED, created on: 2025-01-10 16:46:01 UTC, cost: $0.00, run time: 25 ms, queue time: 26 ms, num qubits: 16\n"
     ]
    },
    {
     "name": "stderr",
     "output_type": "stream",
     "text": [
      "[BQ-PYTHON-SDK][WARNING] - Beta version 0.9.3b1 of BlueQubit Python SDK is being used.\n"
     ]
    },
    {
     "name": "stdout",
     "output_type": "stream",
     "text": [
      "[BQ-PYTHON-SDK][INFO] - Submitted: Job ID: Vfg08SRVKUFbMnCE, name: testing_1, device: cpu, run status: COMPLETED, created on: 2025-01-10 16:46:04 UTC, cost: $0.00, run time: 25 ms, queue time: 30 ms, num qubits: 16\n"
     ]
    },
    {
     "name": "stderr",
     "output_type": "stream",
     "text": [
      "[BQ-PYTHON-SDK][WARNING] - Beta version 0.9.3b1 of BlueQubit Python SDK is being used.\n"
     ]
    },
    {
     "name": "stdout",
     "output_type": "stream",
     "text": [
      "[BQ-PYTHON-SDK][INFO] - Submitted: Job ID: 7GTl6XMiuy7RM0Bb, name: testing_1, device: cpu, run status: COMPLETED, created on: 2025-01-10 16:46:08 UTC, cost: $0.00, run time: 27 ms, queue time: 37 ms, num qubits: 16\n"
     ]
    },
    {
     "name": "stderr",
     "output_type": "stream",
     "text": [
      "[BQ-PYTHON-SDK][WARNING] - Beta version 0.9.3b1 of BlueQubit Python SDK is being used.\n"
     ]
    },
    {
     "name": "stdout",
     "output_type": "stream",
     "text": [
      "[BQ-PYTHON-SDK][INFO] - Submitted: Job ID: a3g18qutWHJSITO8, name: testing_1, device: cpu, run status: COMPLETED, created on: 2025-01-10 16:46:12 UTC, cost: $0.00, run time: 26 ms, queue time: 34 ms, num qubits: 16\n"
     ]
    },
    {
     "name": "stderr",
     "output_type": "stream",
     "text": [
      "[BQ-PYTHON-SDK][WARNING] - Beta version 0.9.3b1 of BlueQubit Python SDK is being used.\n"
     ]
    },
    {
     "name": "stdout",
     "output_type": "stream",
     "text": [
      "[BQ-PYTHON-SDK][INFO] - Submitted: Job ID: 01vKz0DUcOcWDW0B, name: testing_1, device: cpu, run status: COMPLETED, created on: 2025-01-10 16:46:18 UTC, cost: $0.00, run time: 28 ms, queue time: 31 ms, num qubits: 16\n"
     ]
    },
    {
     "name": "stderr",
     "output_type": "stream",
     "text": [
      "[BQ-PYTHON-SDK][WARNING] - Beta version 0.9.3b1 of BlueQubit Python SDK is being used.\n"
     ]
    },
    {
     "name": "stdout",
     "output_type": "stream",
     "text": [
      "[BQ-PYTHON-SDK][INFO] - Submitted: Job ID: U2SDBNeLsUo6rRgx, name: testing_1, device: cpu, run status: COMPLETED, created on: 2025-01-10 16:46:21 UTC, cost: $0.00, run time: 28 ms, queue time: 30 ms, num qubits: 16\n"
     ]
    },
    {
     "name": "stderr",
     "output_type": "stream",
     "text": [
      "[BQ-PYTHON-SDK][WARNING] - Beta version 0.9.3b1 of BlueQubit Python SDK is being used.\n"
     ]
    },
    {
     "name": "stdout",
     "output_type": "stream",
     "text": [
      "[BQ-PYTHON-SDK][INFO] - Submitted: Job ID: 7A933pl7n93ZCCxN, name: testing_1, device: cpu, run status: COMPLETED, created on: 2025-01-10 16:46:25 UTC, cost: $0.00, run time: 29 ms, queue time: 30 ms, num qubits: 16\n"
     ]
    },
    {
     "name": "stderr",
     "output_type": "stream",
     "text": [
      "[BQ-PYTHON-SDK][WARNING] - Beta version 0.9.3b1 of BlueQubit Python SDK is being used.\n"
     ]
    },
    {
     "name": "stdout",
     "output_type": "stream",
     "text": [
      "[BQ-PYTHON-SDK][INFO] - Submitted: Job ID: hq0NTp8ipwsCMlLT, name: testing_1, device: cpu, run status: COMPLETED, created on: 2025-01-10 16:46:29 UTC, cost: $0.00, run time: 28 ms, queue time: 29 ms, num qubits: 16\n"
     ]
    },
    {
     "name": "stderr",
     "output_type": "stream",
     "text": [
      "[BQ-PYTHON-SDK][WARNING] - Beta version 0.9.3b1 of BlueQubit Python SDK is being used.\n"
     ]
    },
    {
     "name": "stdout",
     "output_type": "stream",
     "text": [
      "[BQ-PYTHON-SDK][INFO] - Submitted: Job ID: qp7HDQ8h4jazFzRg, name: testing_1, device: cpu, run status: COMPLETED, created on: 2025-01-10 16:46:33 UTC, cost: $0.00, run time: 29 ms, queue time: 38 ms, num qubits: 16\n"
     ]
    },
    {
     "name": "stderr",
     "output_type": "stream",
     "text": [
      "[BQ-PYTHON-SDK][WARNING] - Beta version 0.9.3b1 of BlueQubit Python SDK is being used.\n"
     ]
    },
    {
     "name": "stdout",
     "output_type": "stream",
     "text": [
      "[BQ-PYTHON-SDK][INFO] - Submitted: Job ID: tw20ZMf6XLInY4dC, name: testing_1, device: cpu, run status: COMPLETED, created on: 2025-01-10 16:46:36 UTC, cost: $0.00, run time: 30 ms, queue time: 29 ms, num qubits: 16\n"
     ]
    },
    {
     "name": "stderr",
     "output_type": "stream",
     "text": [
      "[BQ-PYTHON-SDK][WARNING] - Beta version 0.9.3b1 of BlueQubit Python SDK is being used.\n"
     ]
    },
    {
     "name": "stdout",
     "output_type": "stream",
     "text": [
      "[BQ-PYTHON-SDK][INFO] - Submitted: Job ID: DfKQhaf1HrNI1sAP, name: testing_1, device: cpu, run status: COMPLETED, created on: 2025-01-10 16:46:40 UTC, cost: $0.00, run time: 30 ms, queue time: 28 ms, num qubits: 16\n"
     ]
    },
    {
     "name": "stderr",
     "output_type": "stream",
     "text": [
      "[BQ-PYTHON-SDK][WARNING] - Beta version 0.9.3b1 of BlueQubit Python SDK is being used.\n"
     ]
    },
    {
     "name": "stdout",
     "output_type": "stream",
     "text": [
      "[BQ-PYTHON-SDK][INFO] - Submitted: Job ID: Ljw2YhLTwPpbtqlc, name: testing_1, device: cpu, run status: COMPLETED, created on: 2025-01-10 16:46:43 UTC, cost: $0.00, run time: 38 ms, queue time: 30 ms, num qubits: 16\n"
     ]
    },
    {
     "name": "stderr",
     "output_type": "stream",
     "text": [
      "[BQ-PYTHON-SDK][WARNING] - Beta version 0.9.3b1 of BlueQubit Python SDK is being used.\n"
     ]
    },
    {
     "name": "stdout",
     "output_type": "stream",
     "text": [
      "[BQ-PYTHON-SDK][INFO] - Submitted: Job ID: i1YBhpRLoYCYe7nz, name: testing_1, device: cpu, run status: COMPLETED, created on: 2025-01-10 16:46:47 UTC, cost: $0.00, run time: 39 ms, queue time: 29 ms, num qubits: 16\n"
     ]
    },
    {
     "name": "stderr",
     "output_type": "stream",
     "text": [
      "[BQ-PYTHON-SDK][WARNING] - Beta version 0.9.3b1 of BlueQubit Python SDK is being used.\n"
     ]
    },
    {
     "name": "stdout",
     "output_type": "stream",
     "text": [
      "[BQ-PYTHON-SDK][INFO] - Submitted: Job ID: rEBq3AdGX64VxPsf, name: testing_1, device: cpu, run status: COMPLETED, created on: 2025-01-10 16:46:51 UTC, cost: $0.00, run time: 32 ms, queue time: 34 ms, num qubits: 16\n"
     ]
    },
    {
     "name": "stderr",
     "output_type": "stream",
     "text": [
      "[BQ-PYTHON-SDK][WARNING] - Beta version 0.9.3b1 of BlueQubit Python SDK is being used.\n"
     ]
    },
    {
     "name": "stdout",
     "output_type": "stream",
     "text": [
      "[BQ-PYTHON-SDK][INFO] - Submitted: Job ID: xLOtmueDAqQ5V671, name: testing_1, device: cpu, run status: COMPLETED, created on: 2025-01-10 16:46:56 UTC, cost: $0.00, run time: 32 ms, queue time: 32 ms, num qubits: 16\n"
     ]
    },
    {
     "name": "stderr",
     "output_type": "stream",
     "text": [
      "[BQ-PYTHON-SDK][WARNING] - Beta version 0.9.3b1 of BlueQubit Python SDK is being used.\n"
     ]
    },
    {
     "name": "stdout",
     "output_type": "stream",
     "text": [
      "[BQ-PYTHON-SDK][INFO] - Submitted: Job ID: hL50lFv7VVMkutny, name: testing_1, device: cpu, run status: COMPLETED, created on: 2025-01-10 16:46:59 UTC, cost: $0.00, run time: 37 ms, queue time: 32 ms, num qubits: 16\n"
     ]
    },
    {
     "name": "stderr",
     "output_type": "stream",
     "text": [
      "[BQ-PYTHON-SDK][WARNING] - Beta version 0.9.3b1 of BlueQubit Python SDK is being used.\n"
     ]
    },
    {
     "name": "stdout",
     "output_type": "stream",
     "text": [
      "[BQ-PYTHON-SDK][INFO] - Submitted: Job ID: qAQpEeXSMi1oUvIK, name: testing_1, device: cpu, run status: COMPLETED, created on: 2025-01-10 16:47:03 UTC, cost: $0.00, run time: 34 ms, queue time: 35 ms, num qubits: 16\n"
     ]
    },
    {
     "name": "stderr",
     "output_type": "stream",
     "text": [
      "[BQ-PYTHON-SDK][WARNING] - Beta version 0.9.3b1 of BlueQubit Python SDK is being used.\n"
     ]
    },
    {
     "name": "stdout",
     "output_type": "stream",
     "text": [
      "[BQ-PYTHON-SDK][INFO] - Submitted: Job ID: SUUVlUvLpHbvpy1w, name: testing_1, device: cpu, run status: COMPLETED, created on: 2025-01-10 16:47:06 UTC, cost: $0.00, run time: 34 ms, queue time: 31 ms, num qubits: 16\n"
     ]
    },
    {
     "name": "stderr",
     "output_type": "stream",
     "text": [
      "[BQ-PYTHON-SDK][WARNING] - Beta version 0.9.3b1 of BlueQubit Python SDK is being used.\n"
     ]
    },
    {
     "name": "stdout",
     "output_type": "stream",
     "text": [
      "[BQ-PYTHON-SDK][INFO] - Submitted: Job ID: HbAcU6GXKWfH5Gah, name: testing_1, device: cpu, run status: COMPLETED, created on: 2025-01-10 16:47:10 UTC, cost: $0.00, run time: 35 ms, queue time: 30 ms, num qubits: 16\n"
     ]
    },
    {
     "name": "stderr",
     "output_type": "stream",
     "text": [
      "[BQ-PYTHON-SDK][WARNING] - Beta version 0.9.3b1 of BlueQubit Python SDK is being used.\n"
     ]
    },
    {
     "name": "stdout",
     "output_type": "stream",
     "text": [
      "[BQ-PYTHON-SDK][INFO] - Submitted: Job ID: mhAseEHD1Gr1i3W5, name: testing_1, device: cpu, run status: COMPLETED, created on: 2025-01-10 16:47:14 UTC, cost: $0.00, run time: 35 ms, queue time: 33 ms, num qubits: 16\n"
     ]
    },
    {
     "name": "stderr",
     "output_type": "stream",
     "text": [
      "[BQ-PYTHON-SDK][WARNING] - Beta version 0.9.3b1 of BlueQubit Python SDK is being used.\n"
     ]
    },
    {
     "name": "stdout",
     "output_type": "stream",
     "text": [
      "[BQ-PYTHON-SDK][INFO] - Submitted: Job ID: UoEvFPfGVgntejGz, name: testing_1, device: cpu, run status: COMPLETED, created on: 2025-01-10 16:47:17 UTC, cost: $0.00, run time: 41 ms, queue time: 34 ms, num qubits: 16\n"
     ]
    },
    {
     "name": "stderr",
     "output_type": "stream",
     "text": [
      "[BQ-PYTHON-SDK][WARNING] - Beta version 0.9.3b1 of BlueQubit Python SDK is being used.\n"
     ]
    },
    {
     "name": "stdout",
     "output_type": "stream",
     "text": [
      "[BQ-PYTHON-SDK][INFO] - Submitted: Job ID: ID9RNPnHILeB6Cav, name: testing_1, device: cpu, run status: COMPLETED, created on: 2025-01-10 16:47:21 UTC, cost: $0.00, run time: 37 ms, queue time: 32 ms, num qubits: 16\n"
     ]
    },
    {
     "name": "stderr",
     "output_type": "stream",
     "text": [
      "[BQ-PYTHON-SDK][WARNING] - Beta version 0.9.3b1 of BlueQubit Python SDK is being used.\n"
     ]
    },
    {
     "name": "stdout",
     "output_type": "stream",
     "text": [
      "[BQ-PYTHON-SDK][INFO] - Submitted: Job ID: IRJBEL41dFa4RT6A, name: testing_1, device: cpu, run status: COMPLETED, created on: 2025-01-10 16:47:26 UTC, cost: $0.00, run time: 37 ms, queue time: 31 ms, num qubits: 16\n"
     ]
    },
    {
     "name": "stderr",
     "output_type": "stream",
     "text": [
      "[BQ-PYTHON-SDK][WARNING] - Beta version 0.9.3b1 of BlueQubit Python SDK is being used.\n"
     ]
    },
    {
     "name": "stdout",
     "output_type": "stream",
     "text": [
      "[BQ-PYTHON-SDK][INFO] - Submitted: Job ID: CyMIiEJEY9mEVRLX, name: testing_1, device: cpu, run status: COMPLETED, created on: 2025-01-10 16:47:31 UTC, cost: $0.00, run time: 39 ms, queue time: 34 ms, num qubits: 16\n"
     ]
    },
    {
     "name": "stderr",
     "output_type": "stream",
     "text": [
      "[BQ-PYTHON-SDK][WARNING] - Beta version 0.9.3b1 of BlueQubit Python SDK is being used.\n"
     ]
    },
    {
     "name": "stdout",
     "output_type": "stream",
     "text": [
      "[BQ-PYTHON-SDK][INFO] - Submitted: Job ID: B7EvrM8V44WCaWka, name: testing_1, device: cpu, run status: COMPLETED, created on: 2025-01-10 16:47:35 UTC, cost: $0.00, run time: 40 ms, queue time: 29 ms, num qubits: 16\n"
     ]
    },
    {
     "name": "stderr",
     "output_type": "stream",
     "text": [
      "[BQ-PYTHON-SDK][WARNING] - Beta version 0.9.3b1 of BlueQubit Python SDK is being used.\n"
     ]
    },
    {
     "name": "stdout",
     "output_type": "stream",
     "text": [
      "[BQ-PYTHON-SDK][INFO] - Submitted: Job ID: YHqDNfu5skvSGG75, name: testing_1, device: cpu, run status: COMPLETED, created on: 2025-01-10 16:47:41 UTC, cost: $0.00, run time: 39 ms, queue time: 38 ms, num qubits: 16\n"
     ]
    },
    {
     "name": "stderr",
     "output_type": "stream",
     "text": [
      "[BQ-PYTHON-SDK][WARNING] - Beta version 0.9.3b1 of BlueQubit Python SDK is being used.\n"
     ]
    },
    {
     "name": "stdout",
     "output_type": "stream",
     "text": [
      "[BQ-PYTHON-SDK][INFO] - Submitted: Job ID: qtseQOXIrJoFeQDA, name: testing_1, device: cpu, run status: COMPLETED, created on: 2025-01-10 16:47:44 UTC, cost: $0.00, run time: 42 ms, queue time: 36 ms, num qubits: 16\n"
     ]
    },
    {
     "name": "stderr",
     "output_type": "stream",
     "text": [
      "[BQ-PYTHON-SDK][WARNING] - Beta version 0.9.3b1 of BlueQubit Python SDK is being used.\n"
     ]
    },
    {
     "name": "stdout",
     "output_type": "stream",
     "text": [
      "[BQ-PYTHON-SDK][INFO] - Submitted: Job ID: 1ODEHFgOU4jkrUjC, name: testing_1, device: cpu, run status: COMPLETED, created on: 2025-01-10 16:47:48 UTC, cost: $0.00, run time: 42 ms, queue time: 29 ms, num qubits: 16\n"
     ]
    },
    {
     "name": "stderr",
     "output_type": "stream",
     "text": [
      "[BQ-PYTHON-SDK][WARNING] - Beta version 0.9.3b1 of BlueQubit Python SDK is being used.\n"
     ]
    },
    {
     "name": "stdout",
     "output_type": "stream",
     "text": [
      "[BQ-PYTHON-SDK][INFO] - Submitted: Job ID: Tbk2t9gPlwA5lKz7, name: testing_1, device: cpu, run status: COMPLETED, created on: 2025-01-10 16:47:52 UTC, cost: $0.00, run time: 41 ms, queue time: 30 ms, num qubits: 16\n"
     ]
    },
    {
     "name": "stderr",
     "output_type": "stream",
     "text": [
      "[BQ-PYTHON-SDK][WARNING] - Beta version 0.9.3b1 of BlueQubit Python SDK is being used.\n"
     ]
    },
    {
     "name": "stdout",
     "output_type": "stream",
     "text": [
      "[BQ-PYTHON-SDK][INFO] - Submitted: Job ID: PkUq4JKsks1S5MZY, name: testing_1, device: cpu, run status: COMPLETED, created on: 2025-01-10 16:47:55 UTC, cost: $0.00, run time: 40 ms, queue time: 30 ms, num qubits: 16\n"
     ]
    },
    {
     "name": "stderr",
     "output_type": "stream",
     "text": [
      "[BQ-PYTHON-SDK][WARNING] - Beta version 0.9.3b1 of BlueQubit Python SDK is being used.\n"
     ]
    },
    {
     "name": "stdout",
     "output_type": "stream",
     "text": [
      "[BQ-PYTHON-SDK][INFO] - Submitted: Job ID: TUyGZTyjS56aaspL, name: testing_1, device: cpu, run status: COMPLETED, created on: 2025-01-10 16:47:59 UTC, cost: $0.00, run time: 41 ms, queue time: 42 ms, num qubits: 16\n"
     ]
    },
    {
     "name": "stderr",
     "output_type": "stream",
     "text": [
      "[BQ-PYTHON-SDK][WARNING] - Beta version 0.9.3b1 of BlueQubit Python SDK is being used.\n"
     ]
    },
    {
     "name": "stdout",
     "output_type": "stream",
     "text": [
      "[BQ-PYTHON-SDK][INFO] - Submitted: Job ID: mUIDir37ws54DtHQ, name: testing_1, device: cpu, run status: COMPLETED, created on: 2025-01-10 16:48:02 UTC, cost: $0.00, run time: 46 ms, queue time: 34 ms, num qubits: 16\n"
     ]
    },
    {
     "name": "stderr",
     "output_type": "stream",
     "text": [
      "[BQ-PYTHON-SDK][WARNING] - Beta version 0.9.3b1 of BlueQubit Python SDK is being used.\n"
     ]
    },
    {
     "name": "stdout",
     "output_type": "stream",
     "text": [
      "[BQ-PYTHON-SDK][INFO] - Submitted: Job ID: LM8L9ULWFatblpuR, name: testing_1, device: cpu, run status: COMPLETED, created on: 2025-01-10 16:48:06 UTC, cost: $0.00, run time: 45 ms, queue time: 29 ms, num qubits: 16\n"
     ]
    },
    {
     "name": "stderr",
     "output_type": "stream",
     "text": [
      "[BQ-PYTHON-SDK][WARNING] - Beta version 0.9.3b1 of BlueQubit Python SDK is being used.\n"
     ]
    },
    {
     "name": "stdout",
     "output_type": "stream",
     "text": [
      "[BQ-PYTHON-SDK][INFO] - Submitted: Job ID: ZlUprAOodtaZidxq, name: testing_1, device: cpu, run status: COMPLETED, created on: 2025-01-10 16:48:09 UTC, cost: $0.00, run time: 42 ms, queue time: 38 ms, num qubits: 16\n"
     ]
    },
    {
     "name": "stderr",
     "output_type": "stream",
     "text": [
      "[BQ-PYTHON-SDK][WARNING] - Beta version 0.9.3b1 of BlueQubit Python SDK is being used.\n"
     ]
    },
    {
     "name": "stdout",
     "output_type": "stream",
     "text": [
      "[BQ-PYTHON-SDK][INFO] - Submitted: Job ID: nHpSfDBeiXkubX4m, name: testing_1, device: cpu, run status: COMPLETED, created on: 2025-01-10 16:48:13 UTC, cost: $0.00, run time: 45 ms, queue time: 29 ms, num qubits: 16\n"
     ]
    },
    {
     "name": "stderr",
     "output_type": "stream",
     "text": [
      "[BQ-PYTHON-SDK][WARNING] - Beta version 0.9.3b1 of BlueQubit Python SDK is being used.\n"
     ]
    },
    {
     "name": "stdout",
     "output_type": "stream",
     "text": [
      "[BQ-PYTHON-SDK][INFO] - Submitted: Job ID: NrMTVc0zZQePCbyG, name: testing_1, device: cpu, run status: COMPLETED, created on: 2025-01-10 16:48:17 UTC, cost: $0.00, run time: 43 ms, queue time: 31 ms, num qubits: 16\n"
     ]
    },
    {
     "name": "stderr",
     "output_type": "stream",
     "text": [
      "[BQ-PYTHON-SDK][WARNING] - Beta version 0.9.3b1 of BlueQubit Python SDK is being used.\n"
     ]
    },
    {
     "name": "stdout",
     "output_type": "stream",
     "text": [
      "[BQ-PYTHON-SDK][INFO] - Submitted: Job ID: 0RGQKyGeuEbdN6vB, name: testing_1, device: cpu, run status: COMPLETED, created on: 2025-01-10 16:48:20 UTC, cost: $0.00, run time: 55 ms, queue time: 34 ms, num qubits: 16\n"
     ]
    },
    {
     "name": "stderr",
     "output_type": "stream",
     "text": [
      "[BQ-PYTHON-SDK][WARNING] - Beta version 0.9.3b1 of BlueQubit Python SDK is being used.\n"
     ]
    },
    {
     "name": "stdout",
     "output_type": "stream",
     "text": [
      "[BQ-PYTHON-SDK][INFO] - Submitted: Job ID: 5nCOn6ZFRk2MvBT4, name: testing_1, device: cpu, run status: COMPLETED, created on: 2025-01-10 16:48:25 UTC, cost: $0.00, run time: 46 ms, queue time: 35 ms, num qubits: 16\n"
     ]
    },
    {
     "name": "stderr",
     "output_type": "stream",
     "text": [
      "[BQ-PYTHON-SDK][WARNING] - Beta version 0.9.3b1 of BlueQubit Python SDK is being used.\n"
     ]
    },
    {
     "name": "stdout",
     "output_type": "stream",
     "text": [
      "[BQ-PYTHON-SDK][INFO] - Submitted: Job ID: 9jwxP95oz9P4tYWs, name: testing_1, device: cpu, run status: COMPLETED, created on: 2025-01-10 16:48:29 UTC, cost: $0.00, run time: 47 ms, queue time: 34 ms, num qubits: 16\n"
     ]
    },
    {
     "name": "stderr",
     "output_type": "stream",
     "text": [
      "[BQ-PYTHON-SDK][WARNING] - Beta version 0.9.3b1 of BlueQubit Python SDK is being used.\n"
     ]
    },
    {
     "name": "stdout",
     "output_type": "stream",
     "text": [
      "[BQ-PYTHON-SDK][INFO] - Submitted: Job ID: gVozwwSzsKO5XgZL, name: testing_1, device: cpu, run status: COMPLETED, created on: 2025-01-10 16:48:32 UTC, cost: $0.00, run time: 55 ms, queue time: 38 ms, num qubits: 16\n"
     ]
    },
    {
     "name": "stderr",
     "output_type": "stream",
     "text": [
      "[BQ-PYTHON-SDK][WARNING] - Beta version 0.9.3b1 of BlueQubit Python SDK is being used.\n"
     ]
    },
    {
     "name": "stdout",
     "output_type": "stream",
     "text": [
      "[BQ-PYTHON-SDK][INFO] - Submitted: Job ID: gpufrCp0WvitFvED, name: testing_1, device: cpu, run status: COMPLETED, created on: 2025-01-10 16:48:36 UTC, cost: $0.00, run time: 46 ms, queue time: 33 ms, num qubits: 16\n"
     ]
    },
    {
     "name": "stderr",
     "output_type": "stream",
     "text": [
      "[BQ-PYTHON-SDK][WARNING] - Beta version 0.9.3b1 of BlueQubit Python SDK is being used.\n"
     ]
    },
    {
     "name": "stdout",
     "output_type": "stream",
     "text": [
      "[BQ-PYTHON-SDK][INFO] - Submitted: Job ID: ywHQfxWdYzs4rl6r, name: testing_1, device: cpu, run status: COMPLETED, created on: 2025-01-10 16:48:40 UTC, cost: $0.00, run time: 47 ms, queue time: 33 ms, num qubits: 16\n"
     ]
    },
    {
     "name": "stderr",
     "output_type": "stream",
     "text": [
      "[BQ-PYTHON-SDK][WARNING] - Beta version 0.9.3b1 of BlueQubit Python SDK is being used.\n"
     ]
    },
    {
     "name": "stdout",
     "output_type": "stream",
     "text": [
      "[BQ-PYTHON-SDK][INFO] - Submitted: Job ID: VyR5L5u2h2PcPphK, name: testing_1, device: cpu, run status: COMPLETED, created on: 2025-01-10 16:48:44 UTC, cost: $0.00, run time: 56 ms, queue time: 38 ms, num qubits: 16\n"
     ]
    },
    {
     "name": "stderr",
     "output_type": "stream",
     "text": [
      "[BQ-PYTHON-SDK][WARNING] - Beta version 0.9.3b1 of BlueQubit Python SDK is being used.\n"
     ]
    },
    {
     "name": "stdout",
     "output_type": "stream",
     "text": [
      "[BQ-PYTHON-SDK][INFO] - Submitted: Job ID: ST4Q3l2nRvLE3Aen, name: testing_1, device: cpu, run status: COMPLETED, created on: 2025-01-10 16:48:57 UTC, cost: $0.00, run time: 49 ms, queue time: 36 ms, num qubits: 16\n"
     ]
    },
    {
     "name": "stderr",
     "output_type": "stream",
     "text": [
      "[BQ-PYTHON-SDK][WARNING] - Beta version 0.9.3b1 of BlueQubit Python SDK is being used.\n"
     ]
    },
    {
     "name": "stdout",
     "output_type": "stream",
     "text": [
      "[BQ-PYTHON-SDK][INFO] - Submitted: Job ID: ZTc2hCegCKE87iNj, name: testing_1, device: cpu, run status: COMPLETED, created on: 2025-01-10 16:49:01 UTC, cost: $0.00, run time: 51 ms, queue time: 41 ms, num qubits: 16\n"
     ]
    },
    {
     "name": "stderr",
     "output_type": "stream",
     "text": [
      "[BQ-PYTHON-SDK][WARNING] - Beta version 0.9.3b1 of BlueQubit Python SDK is being used.\n"
     ]
    },
    {
     "name": "stdout",
     "output_type": "stream",
     "text": [
      "[BQ-PYTHON-SDK][INFO] - Submitted: Job ID: xiwWmV76aylmVKzs, name: testing_1, device: cpu, run status: COMPLETED, created on: 2025-01-10 16:49:05 UTC, cost: $0.00, run time: 48 ms, queue time: 51 ms, num qubits: 16\n"
     ]
    },
    {
     "name": "stderr",
     "output_type": "stream",
     "text": [
      "[BQ-PYTHON-SDK][WARNING] - Beta version 0.9.3b1 of BlueQubit Python SDK is being used.\n"
     ]
    },
    {
     "name": "stdout",
     "output_type": "stream",
     "text": [
      "[BQ-PYTHON-SDK][INFO] - Submitted: Job ID: O4KvsB3CEG9tDavn, name: testing_1, device: cpu, run status: COMPLETED, created on: 2025-01-10 16:49:09 UTC, cost: $0.00, run time: 49 ms, queue time: 31 ms, num qubits: 16\n"
     ]
    },
    {
     "name": "stderr",
     "output_type": "stream",
     "text": [
      "[BQ-PYTHON-SDK][WARNING] - Beta version 0.9.3b1 of BlueQubit Python SDK is being used.\n"
     ]
    },
    {
     "name": "stdout",
     "output_type": "stream",
     "text": [
      "[BQ-PYTHON-SDK][INFO] - Submitted: Job ID: j5tisqSi8RO1Ag34, name: testing_1, device: cpu, run status: COMPLETED, created on: 2025-01-10 16:49:12 UTC, cost: $0.00, run time: 49 ms, queue time: 33 ms, num qubits: 16\n"
     ]
    },
    {
     "name": "stderr",
     "output_type": "stream",
     "text": [
      "[BQ-PYTHON-SDK][WARNING] - Beta version 0.9.3b1 of BlueQubit Python SDK is being used.\n"
     ]
    },
    {
     "name": "stdout",
     "output_type": "stream",
     "text": [
      "[BQ-PYTHON-SDK][INFO] - Submitted: Job ID: KibQaG6v4rTMbF2t, name: testing_1, device: cpu, run status: COMPLETED, created on: 2025-01-10 16:49:16 UTC, cost: $0.00, run time: 51 ms, queue time: 35 ms, num qubits: 16\n"
     ]
    },
    {
     "name": "stderr",
     "output_type": "stream",
     "text": [
      "[BQ-PYTHON-SDK][WARNING] - Beta version 0.9.3b1 of BlueQubit Python SDK is being used.\n"
     ]
    },
    {
     "name": "stdout",
     "output_type": "stream",
     "text": [
      "[BQ-PYTHON-SDK][INFO] - Submitted: Job ID: TFHHs61EggrwRxOu, name: testing_1, device: cpu, run status: COMPLETED, created on: 2025-01-10 16:49:20 UTC, cost: $0.00, run time: 53 ms, queue time: 35 ms, num qubits: 16\n"
     ]
    },
    {
     "name": "stderr",
     "output_type": "stream",
     "text": [
      "[BQ-PYTHON-SDK][WARNING] - Beta version 0.9.3b1 of BlueQubit Python SDK is being used.\n"
     ]
    },
    {
     "name": "stdout",
     "output_type": "stream",
     "text": [
      "[BQ-PYTHON-SDK][INFO] - Submitted: Job ID: 9RaunOaQKhVFXlcc, name: testing_1, device: cpu, run status: COMPLETED, created on: 2025-01-10 16:49:23 UTC, cost: $0.00, run time: 62 ms, queue time: 31 ms, num qubits: 16\n"
     ]
    },
    {
     "name": "stderr",
     "output_type": "stream",
     "text": [
      "[BQ-PYTHON-SDK][WARNING] - Beta version 0.9.3b1 of BlueQubit Python SDK is being used.\n"
     ]
    },
    {
     "name": "stdout",
     "output_type": "stream",
     "text": [
      "[BQ-PYTHON-SDK][INFO] - Submitted: Job ID: BAz2BG2DsO3HBj4L, name: testing_1, device: cpu, run status: COMPLETED, created on: 2025-01-10 16:49:27 UTC, cost: $0.00, run time: 53 ms, queue time: 32 ms, num qubits: 16\n"
     ]
    },
    {
     "name": "stderr",
     "output_type": "stream",
     "text": [
      "[BQ-PYTHON-SDK][WARNING] - Beta version 0.9.3b1 of BlueQubit Python SDK is being used.\n"
     ]
    },
    {
     "name": "stdout",
     "output_type": "stream",
     "text": [
      "[BQ-PYTHON-SDK][INFO] - Submitted: Job ID: 9MBi3qfBnSZisqT0, name: testing_1, device: cpu, run status: COMPLETED, created on: 2025-01-10 16:49:31 UTC, cost: $0.00, run time: 51 ms, queue time: 38 ms, num qubits: 16\n"
     ]
    },
    {
     "name": "stderr",
     "output_type": "stream",
     "text": [
      "[BQ-PYTHON-SDK][WARNING] - Beta version 0.9.3b1 of BlueQubit Python SDK is being used.\n"
     ]
    },
    {
     "name": "stdout",
     "output_type": "stream",
     "text": [
      "[BQ-PYTHON-SDK][INFO] - Submitted: Job ID: sGGixbgfT0a3f7n2, name: testing_1, device: cpu, run status: COMPLETED, created on: 2025-01-10 16:49:35 UTC, cost: $0.00, run time: 60 ms, queue time: 36 ms, num qubits: 16\n"
     ]
    },
    {
     "name": "stderr",
     "output_type": "stream",
     "text": [
      "[BQ-PYTHON-SDK][WARNING] - Beta version 0.9.3b1 of BlueQubit Python SDK is being used.\n"
     ]
    },
    {
     "name": "stdout",
     "output_type": "stream",
     "text": [
      "[BQ-PYTHON-SDK][INFO] - Submitted: Job ID: NV6cEoFG1xTBqgv7, name: testing_1, device: cpu, run status: COMPLETED, created on: 2025-01-10 16:49:39 UTC, cost: $0.00, run time: 52 ms, queue time: 33 ms, num qubits: 16\n"
     ]
    },
    {
     "name": "stderr",
     "output_type": "stream",
     "text": [
      "[BQ-PYTHON-SDK][WARNING] - Beta version 0.9.3b1 of BlueQubit Python SDK is being used.\n"
     ]
    },
    {
     "name": "stdout",
     "output_type": "stream",
     "text": [
      "[BQ-PYTHON-SDK][INFO] - Submitted: Job ID: 6jXyACJxjbs1yYVZ, name: testing_1, device: cpu, run status: COMPLETED, created on: 2025-01-10 16:49:43 UTC, cost: $0.00, run time: 182 ms, queue time: 33 ms, num qubits: 16\n"
     ]
    },
    {
     "name": "stderr",
     "output_type": "stream",
     "text": [
      "[BQ-PYTHON-SDK][WARNING] - Beta version 0.9.3b1 of BlueQubit Python SDK is being used.\n"
     ]
    },
    {
     "name": "stdout",
     "output_type": "stream",
     "text": [
      "[BQ-PYTHON-SDK][INFO] - Submitted: Job ID: I8ZkQAo0BI0ntepO, name: testing_1, device: cpu, run status: COMPLETED, created on: 2025-01-10 16:49:47 UTC, cost: $0.00, run time: 55 ms, queue time: 30 ms, num qubits: 16\n"
     ]
    },
    {
     "name": "stderr",
     "output_type": "stream",
     "text": [
      "[BQ-PYTHON-SDK][WARNING] - Beta version 0.9.3b1 of BlueQubit Python SDK is being used.\n"
     ]
    },
    {
     "name": "stdout",
     "output_type": "stream",
     "text": [
      "[BQ-PYTHON-SDK][INFO] - Submitted: Job ID: tTU6h6GpKaw4git0, name: testing_1, device: cpu, run status: COMPLETED, created on: 2025-01-10 16:49:50 UTC, cost: $0.00, run time: 79 ms, queue time: 35 ms, num qubits: 16\n"
     ]
    },
    {
     "name": "stderr",
     "output_type": "stream",
     "text": [
      "[BQ-PYTHON-SDK][WARNING] - Beta version 0.9.3b1 of BlueQubit Python SDK is being used.\n"
     ]
    },
    {
     "name": "stdout",
     "output_type": "stream",
     "text": [
      "[BQ-PYTHON-SDK][INFO] - Submitted: Job ID: UsL5QClcChBLNPkP, name: testing_1, device: cpu, run status: COMPLETED, created on: 2025-01-10 16:49:54 UTC, cost: $0.00, run time: 56 ms, queue time: 32 ms, num qubits: 16\n"
     ]
    },
    {
     "name": "stderr",
     "output_type": "stream",
     "text": [
      "[BQ-PYTHON-SDK][WARNING] - Beta version 0.9.3b1 of BlueQubit Python SDK is being used.\n"
     ]
    },
    {
     "name": "stdout",
     "output_type": "stream",
     "text": [
      "[BQ-PYTHON-SDK][INFO] - Submitted: Job ID: dPs0drpWEMwgjrqG, name: testing_1, device: cpu, run status: COMPLETED, created on: 2025-01-10 16:49:58 UTC, cost: $0.00, run time: 55 ms, queue time: 33 ms, num qubits: 16\n"
     ]
    },
    {
     "name": "stderr",
     "output_type": "stream",
     "text": [
      "[BQ-PYTHON-SDK][WARNING] - Beta version 0.9.3b1 of BlueQubit Python SDK is being used.\n"
     ]
    },
    {
     "name": "stdout",
     "output_type": "stream",
     "text": [
      "[BQ-PYTHON-SDK][INFO] - Submitted: Job ID: dZS9ot7H2fdbSVdo, name: testing_1, device: cpu, run status: COMPLETED, created on: 2025-01-10 16:50:02 UTC, cost: $0.00, run time: 57 ms, queue time: 35 ms, num qubits: 16\n"
     ]
    },
    {
     "name": "stderr",
     "output_type": "stream",
     "text": [
      "[BQ-PYTHON-SDK][WARNING] - Beta version 0.9.3b1 of BlueQubit Python SDK is being used.\n"
     ]
    },
    {
     "name": "stdout",
     "output_type": "stream",
     "text": [
      "[BQ-PYTHON-SDK][INFO] - Submitted: Job ID: T0uSm8FGyBx6ZwKF, name: testing_1, device: cpu, run status: COMPLETED, created on: 2025-01-10 16:50:05 UTC, cost: $0.00, run time: 58 ms, queue time: 46 ms, num qubits: 16\n"
     ]
    },
    {
     "name": "stderr",
     "output_type": "stream",
     "text": [
      "[BQ-PYTHON-SDK][WARNING] - Beta version 0.9.3b1 of BlueQubit Python SDK is being used.\n"
     ]
    },
    {
     "name": "stdout",
     "output_type": "stream",
     "text": [
      "[BQ-PYTHON-SDK][INFO] - Submitted: Job ID: TsPxZdspvMjLMZ9d, name: testing_1, device: cpu, run status: COMPLETED, created on: 2025-01-10 16:50:09 UTC, cost: $0.00, run time: 187 ms, queue time: 36 ms, num qubits: 16\n"
     ]
    },
    {
     "name": "stderr",
     "output_type": "stream",
     "text": [
      "[BQ-PYTHON-SDK][WARNING] - Beta version 0.9.3b1 of BlueQubit Python SDK is being used.\n"
     ]
    },
    {
     "name": "stdout",
     "output_type": "stream",
     "text": [
      "[BQ-PYTHON-SDK][INFO] - Submitted: Job ID: zUswIC5eo6JL9LDU, name: testing_1, device: cpu, run status: COMPLETED, created on: 2025-01-10 16:50:13 UTC, cost: $0.00, run time: 58 ms, queue time: 34 ms, num qubits: 16\n"
     ]
    },
    {
     "name": "stderr",
     "output_type": "stream",
     "text": [
      "[BQ-PYTHON-SDK][WARNING] - Beta version 0.9.3b1 of BlueQubit Python SDK is being used.\n"
     ]
    },
    {
     "name": "stdout",
     "output_type": "stream",
     "text": [
      "[BQ-PYTHON-SDK][INFO] - Submitted: Job ID: UQJJYHVSKVgDRmtR, name: testing_1, device: cpu, run status: COMPLETED, created on: 2025-01-10 16:50:17 UTC, cost: $0.00, run time: 59 ms, queue time: 32 ms, num qubits: 16\n"
     ]
    },
    {
     "name": "stderr",
     "output_type": "stream",
     "text": [
      "[BQ-PYTHON-SDK][WARNING] - Beta version 0.9.3b1 of BlueQubit Python SDK is being used.\n"
     ]
    },
    {
     "name": "stdout",
     "output_type": "stream",
     "text": [
      "[BQ-PYTHON-SDK][INFO] - Submitted: Job ID: iZ1qYWI387kFaErz, name: testing_1, device: cpu, run status: COMPLETED, created on: 2025-01-10 16:50:20 UTC, cost: $0.00, run time: 62 ms, queue time: 34 ms, num qubits: 16\n"
     ]
    }
   ],
   "source": [
    "for i in range(n):\n",
    "    qc.t(i)\n",
    "# qc.t(int(n/2))\n",
    "# for i in range(0,n,3):\n",
    "#     qc.t(i)\n",
    "depth=70\n",
    "for i in range(depth):\n",
    "    qc,gates=random_clifford_with_depth(qc,n,1)\n",
    "    # r_tildae_qiskit,rdm_from_qiskit=get_r_tildae(qc,partition=list(range(int(n/2))),simulator='qiskit')\n",
    "    r_tildae_qiskit,rdm_from_qiskit,statevector=get_r_tildae(qc,partition=list(range(int(n/2))),simulator='bq')\n",
    "    r_tildae_list.append(r_tildae_qiskit)\n",
    "    state_vectors.append(statevector)\n",
    "    gates_list.append(gates)"
   ]
  },
  {
   "cell_type": "code",
   "execution_count": 223,
   "metadata": {},
   "outputs": [
    {
     "data": {
      "text/plain": [
       "(array([1., 0., 0., 0., 0., 0., 0., 0., 0., 0., 0., 0., 0., 0., 0., 0., 0.,\n",
       "        0., 0., 0., 0., 0., 0., 0., 0., 0., 0., 0., 0., 0., 0., 0., 0., 0.,\n",
       "        0., 0., 0., 0., 0., 0., 0., 0., 0., 0., 0., 0., 0., 0., 0., 0., 0.,\n",
       "        0., 0., 0., 0., 0., 0., 0., 0., 0., 0., 0., 0., 0., 0., 0., 0., 0.,\n",
       "        0., 0., 0., 0., 0., 0., 0., 0., 0., 0., 0., 0., 0., 0., 0., 0., 0.,\n",
       "        0., 0., 0., 0., 0., 0., 0., 0., 0., 0., 0., 0., 0., 0., 0.]),\n",
       " array([0.    , 0.0005, 0.001 , 0.0015, 0.002 , 0.0025, 0.003 , 0.0035,\n",
       "        0.004 , 0.0045, 0.005 , 0.0055, 0.006 , 0.0065, 0.007 , 0.0075,\n",
       "        0.008 , 0.0085, 0.009 , 0.0095, 0.01  , 0.0105, 0.011 , 0.0115,\n",
       "        0.012 , 0.0125, 0.013 , 0.0135, 0.014 , 0.0145, 0.015 , 0.0155,\n",
       "        0.016 , 0.0165, 0.017 , 0.0175, 0.018 , 0.0185, 0.019 , 0.0195,\n",
       "        0.02  , 0.0205, 0.021 , 0.0215, 0.022 , 0.0225, 0.023 , 0.0235,\n",
       "        0.024 , 0.0245, 0.025 , 0.0255, 0.026 , 0.0265, 0.027 , 0.0275,\n",
       "        0.028 , 0.0285, 0.029 , 0.0295, 0.03  , 0.0305, 0.031 , 0.0315,\n",
       "        0.032 , 0.0325, 0.033 , 0.0335, 0.034 , 0.0345, 0.035 , 0.0355,\n",
       "        0.036 , 0.0365, 0.037 , 0.0375, 0.038 , 0.0385, 0.039 , 0.0395,\n",
       "        0.04  , 0.0405, 0.041 , 0.0415, 0.042 , 0.0425, 0.043 , 0.0435,\n",
       "        0.044 , 0.0445, 0.045 , 0.0455, 0.046 , 0.0465, 0.047 , 0.0475,\n",
       "        0.048 , 0.0485, 0.049 , 0.0495, 0.05  ]),\n",
       " <BarContainer object of 100 artists>)"
      ]
     },
     "execution_count": 223,
     "metadata": {},
     "output_type": "execute_result"
    },
    {
     "data": {
      "image/png": "[encoded data removed]",
      "text/plain": [
       "<Figure size 640x480 with 1 Axes>"
      ]
     },
     "metadata": {},
     "output_type": "display_data"
    }
   ],
   "source": [
    "myarray=np.square(state_vectors[110])\n",
    "weights = np.ones_like(myarray) / len(myarray)\n",
    "plt.hist(np.abs(myarray),weights=weights, bins=100,range=[0,0.05],label='circuit')\n",
    "\n",
    "## for porter thomas\n",
    "# x = np.linspace(0, 0.05, 100)  # Create a range of x values from 0 to 1\n",
    "# theoretical_distribution = [np.exp(-2**n * i) for i in x]  # Uniform distribution for example\n",
    "# plt.plot(x, theoretical_distribution,label='Theoretical Distribution', color='red', linewidth=2)"
   ]
  },
  {
   "cell_type": "code",
   "execution_count": 65,
   "metadata": {},
   "outputs": [
    {
     "data": {
      "text/plain": [
       "[<matplotlib.lines.Line2D at 0x7f8e1490d400>]"
      ]
     },
     "execution_count": 65,
     "metadata": {},
     "output_type": "execute_result"
    },
    {
     "data": {
      "image/png": "[encoded data removed]",
      "text/plain": [
       "<Figure size 640x480 with 1 Axes>"
      ]
     },
     "metadata": {},
     "output_type": "display_data"
    }
   ],
   "source": [
    "plt.plot(r_tildae_list)"
   ]
  },
  {
   "cell_type": "code",
   "execution_count": null,
   "metadata": {},
   "outputs": [],
   "source": [
    "r_tildae_qiskit_prev,rdm_trash=get_r_tildae(qc_prev,partition=list(range(int(n/2))),simulator='qiskit')\n",
    "dm_prev=DensityMatrix.from_instruction(qc_prev)\n",
    "dm=DensityMatrix.from_instruction(qc)\n",
    "prev_evalue=np.linalg.eigvals(dm_prev)\n",
    "current_evalue=np.linalg.eigvals(dm)\n",
    "print(r_tildae_qiskit_prev)\n"
   ]
  },
  {
   "cell_type": "code",
   "execution_count": null,
   "metadata": {},
   "outputs": [],
   "source": [
    "\n",
    "##code to implement gates as per the dictionary \n",
    "exp_qc=qc_prev.copy()\n",
    "for i in gates_added[0]:\n",
    "    print(i)\n",
    "    print(gates_added[0][i])\n",
    "    if(gates_added[0][i]=='cnot'):\n",
    "        j= i\n",
    "        j = ast.literal_eval(j)\n",
    "        exp_qc.cx(j[0],j[1])\n",
    "    if(gates_added[0][i]=='s'):\n",
    "        exp_qc.s(int(i))\n",
    "    if(gates_added[0][i]=='h'):\n",
    "        exp_qc.h(int(i))\n",
    "        \n",
    "    r_tildae_qiskit_exp,rdm_exp=get_r_tildae(exp_qc,partition=list(range(int(n/2))),simulator='qiskit')\n",
    "    print(r_tildae_qiskit_exp)\n"
   ]
  }
 ],
 "metadata": {
  "kernelspec": {
   "display_name": "base",
   "language": "python",
   "name": "python3"
  },
  "language_info": {
   "codemirror_mode": {
    "name": "ipython",
    "version": 3
   },
   "file_extension": ".py",
   "mimetype": "text/x-python",
   "name": "python",
   "nbconvert_exporter": "python",
   "pygments_lexer": "ipython3",
   "version": "3.9.13"
  },
  "orig_nbformat": 4
 },
 "nbformat": 4,
 "nbformat_minor": 2
}
